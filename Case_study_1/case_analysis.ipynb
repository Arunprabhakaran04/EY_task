{
 "cells": [
  {
   "cell_type": "code",
   "execution_count": 1,
   "metadata": {},
   "outputs": [],
   "source": [
    "import pandas as pd\n",
    "import numpy as np\n",
    "import matplotlib as plt\n",
    "import seaborn as sns"
   ]
  },
  {
   "cell_type": "code",
   "execution_count": 2,
   "metadata": {},
   "outputs": [
    {
     "data": {
      "application/vnd.microsoft.datawrangler.viewer.v0+json": {
       "columns": [
        {
         "name": "index",
         "rawType": "int64",
         "type": "integer"
        },
        {
         "name": "OrderID",
         "rawType": "int64",
         "type": "integer"
        },
        {
         "name": "CustomerID",
         "rawType": "int64",
         "type": "integer"
        },
        {
         "name": "OrderDate",
         "rawType": "object",
         "type": "string"
        },
        {
         "name": "DeliveryDistanceKM",
         "rawType": "float64",
         "type": "float"
        },
        {
         "name": "OrderAmount",
         "rawType": "object",
         "type": "string"
        },
        {
         "name": "DiscountApplied",
         "rawType": "float64",
         "type": "float"
        },
        {
         "name": "DeliveryTimeMin",
         "rawType": "int64",
         "type": "integer"
        }
       ],
       "conversionMethod": "pd.DataFrame",
       "ref": "f075a906-dbdf-411c-b17a-f94988309de2",
       "rows": [
        [
         "0",
         "8180",
         "436",
         "27-11-2024",
         "17.37",
         "$35.53",
         "0.7",
         "42"
        ],
        [
         "1",
         "2138",
         "265",
         "27-11-2024",
         "4.44",
         "$36.58",
         "9.36",
         "52"
        ],
        [
         "2",
         "8737",
         "193",
         "31-10-2024",
         "19.66",
         "$79.93",
         "3.38",
         "59"
        ],
        [
         "3",
         "1913",
         "769",
         "14-11-2024",
         "1.99",
         "$23.16",
         "1.44",
         "11"
        ],
        [
         "4",
         "1506",
         "982",
         "05-01-2025",
         "7.26",
         "$24.95",
         "11.87",
         "36"
        ]
       ],
       "shape": {
        "columns": 7,
        "rows": 5
       }
      },
      "text/html": [
       "<div>\n",
       "<style scoped>\n",
       "    .dataframe tbody tr th:only-of-type {\n",
       "        vertical-align: middle;\n",
       "    }\n",
       "\n",
       "    .dataframe tbody tr th {\n",
       "        vertical-align: top;\n",
       "    }\n",
       "\n",
       "    .dataframe thead th {\n",
       "        text-align: right;\n",
       "    }\n",
       "</style>\n",
       "<table border=\"1\" class=\"dataframe\">\n",
       "  <thead>\n",
       "    <tr style=\"text-align: right;\">\n",
       "      <th></th>\n",
       "      <th>OrderID</th>\n",
       "      <th>CustomerID</th>\n",
       "      <th>OrderDate</th>\n",
       "      <th>DeliveryDistanceKM</th>\n",
       "      <th>OrderAmount</th>\n",
       "      <th>DiscountApplied</th>\n",
       "      <th>DeliveryTimeMin</th>\n",
       "    </tr>\n",
       "  </thead>\n",
       "  <tbody>\n",
       "    <tr>\n",
       "      <th>0</th>\n",
       "      <td>8180</td>\n",
       "      <td>436</td>\n",
       "      <td>27-11-2024</td>\n",
       "      <td>17.37</td>\n",
       "      <td>$35.53</td>\n",
       "      <td>0.70</td>\n",
       "      <td>42</td>\n",
       "    </tr>\n",
       "    <tr>\n",
       "      <th>1</th>\n",
       "      <td>2138</td>\n",
       "      <td>265</td>\n",
       "      <td>27-11-2024</td>\n",
       "      <td>4.44</td>\n",
       "      <td>$36.58</td>\n",
       "      <td>9.36</td>\n",
       "      <td>52</td>\n",
       "    </tr>\n",
       "    <tr>\n",
       "      <th>2</th>\n",
       "      <td>8737</td>\n",
       "      <td>193</td>\n",
       "      <td>31-10-2024</td>\n",
       "      <td>19.66</td>\n",
       "      <td>$79.93</td>\n",
       "      <td>3.38</td>\n",
       "      <td>59</td>\n",
       "    </tr>\n",
       "    <tr>\n",
       "      <th>3</th>\n",
       "      <td>1913</td>\n",
       "      <td>769</td>\n",
       "      <td>14-11-2024</td>\n",
       "      <td>1.99</td>\n",
       "      <td>$23.16</td>\n",
       "      <td>1.44</td>\n",
       "      <td>11</td>\n",
       "    </tr>\n",
       "    <tr>\n",
       "      <th>4</th>\n",
       "      <td>1506</td>\n",
       "      <td>982</td>\n",
       "      <td>05-01-2025</td>\n",
       "      <td>7.26</td>\n",
       "      <td>$24.95</td>\n",
       "      <td>11.87</td>\n",
       "      <td>36</td>\n",
       "    </tr>\n",
       "  </tbody>\n",
       "</table>\n",
       "</div>"
      ],
      "text/plain": [
       "   OrderID  CustomerID   OrderDate  DeliveryDistanceKM OrderAmount  \\\n",
       "0     8180         436  27-11-2024               17.37      $35.53   \n",
       "1     2138         265  27-11-2024                4.44      $36.58   \n",
       "2     8737         193  31-10-2024               19.66      $79.93   \n",
       "3     1913         769  14-11-2024                1.99      $23.16   \n",
       "4     1506         982  05-01-2025                7.26      $24.95   \n",
       "\n",
       "   DiscountApplied  DeliveryTimeMin  \n",
       "0             0.70               42  \n",
       "1             9.36               52  \n",
       "2             3.38               59  \n",
       "3             1.44               11  \n",
       "4            11.87               36  "
      ]
     },
     "execution_count": 2,
     "metadata": {},
     "output_type": "execute_result"
    }
   ],
   "source": [
    "df_food_delivery = pd.read_csv(\"food_delivery_data.csv\")\n",
    "df_food_delivery.head()"
   ]
  },
  {
   "cell_type": "code",
   "execution_count": 3,
   "metadata": {},
   "outputs": [
    {
     "name": "stdout",
     "output_type": "stream",
     "text": [
      "<class 'pandas.core.frame.DataFrame'>\n",
      "RangeIndex: 500 entries, 0 to 499\n",
      "Data columns (total 7 columns):\n",
      " #   Column              Non-Null Count  Dtype  \n",
      "---  ------              --------------  -----  \n",
      " 0   OrderID             500 non-null    int64  \n",
      " 1   CustomerID          500 non-null    int64  \n",
      " 2   OrderDate           500 non-null    object \n",
      " 3   DeliveryDistanceKM  500 non-null    float64\n",
      " 4   OrderAmount         500 non-null    object \n",
      " 5   DiscountApplied     500 non-null    float64\n",
      " 6   DeliveryTimeMin     500 non-null    int64  \n",
      "dtypes: float64(2), int64(3), object(2)\n",
      "memory usage: 27.5+ KB\n"
     ]
    }
   ],
   "source": [
    "df_food_delivery.info()"
   ]
  },
  {
   "cell_type": "code",
   "execution_count": 4,
   "metadata": {},
   "outputs": [
    {
     "data": {
      "application/vnd.microsoft.datawrangler.viewer.v0+json": {
       "columns": [
        {
         "name": "index",
         "rawType": "int64",
         "type": "integer"
        },
        {
         "name": "OrderID",
         "rawType": "int64",
         "type": "integer"
        },
        {
         "name": "CustomerID",
         "rawType": "int64",
         "type": "integer"
        },
        {
         "name": "OrderDate",
         "rawType": "object",
         "type": "string"
        },
        {
         "name": "FoodType",
         "rawType": "object",
         "type": "string"
        }
       ],
       "conversionMethod": "pd.DataFrame",
       "ref": "d826560b-7bea-4f8b-8140-bf5e30995a4a",
       "rows": [
        [
         "0",
         "3521",
         "386",
         "12-12-2024",
         "Seafood"
        ],
        [
         "1",
         "7430",
         "259",
         "02-11-2024",
         "Pasta"
        ],
        [
         "2",
         "5392",
         "702",
         "30-12-2024",
         "Sushi"
        ],
        [
         "3",
         "4477",
         "344",
         "09-01-2025",
         "Dessert"
        ],
        [
         "4",
         "1912",
         "140",
         "25-10-2024",
         "Salad"
        ]
       ],
       "shape": {
        "columns": 4,
        "rows": 5
       }
      },
      "text/html": [
       "<div>\n",
       "<style scoped>\n",
       "    .dataframe tbody tr th:only-of-type {\n",
       "        vertical-align: middle;\n",
       "    }\n",
       "\n",
       "    .dataframe tbody tr th {\n",
       "        vertical-align: top;\n",
       "    }\n",
       "\n",
       "    .dataframe thead th {\n",
       "        text-align: right;\n",
       "    }\n",
       "</style>\n",
       "<table border=\"1\" class=\"dataframe\">\n",
       "  <thead>\n",
       "    <tr style=\"text-align: right;\">\n",
       "      <th></th>\n",
       "      <th>OrderID</th>\n",
       "      <th>CustomerID</th>\n",
       "      <th>OrderDate</th>\n",
       "      <th>FoodType</th>\n",
       "    </tr>\n",
       "  </thead>\n",
       "  <tbody>\n",
       "    <tr>\n",
       "      <th>0</th>\n",
       "      <td>3521</td>\n",
       "      <td>386</td>\n",
       "      <td>12-12-2024</td>\n",
       "      <td>Seafood</td>\n",
       "    </tr>\n",
       "    <tr>\n",
       "      <th>1</th>\n",
       "      <td>7430</td>\n",
       "      <td>259</td>\n",
       "      <td>02-11-2024</td>\n",
       "      <td>Pasta</td>\n",
       "    </tr>\n",
       "    <tr>\n",
       "      <th>2</th>\n",
       "      <td>5392</td>\n",
       "      <td>702</td>\n",
       "      <td>30-12-2024</td>\n",
       "      <td>Sushi</td>\n",
       "    </tr>\n",
       "    <tr>\n",
       "      <th>3</th>\n",
       "      <td>4477</td>\n",
       "      <td>344</td>\n",
       "      <td>09-01-2025</td>\n",
       "      <td>Dessert</td>\n",
       "    </tr>\n",
       "    <tr>\n",
       "      <th>4</th>\n",
       "      <td>1912</td>\n",
       "      <td>140</td>\n",
       "      <td>25-10-2024</td>\n",
       "      <td>Salad</td>\n",
       "    </tr>\n",
       "  </tbody>\n",
       "</table>\n",
       "</div>"
      ],
      "text/plain": [
       "   OrderID  CustomerID   OrderDate FoodType\n",
       "0     3521         386  12-12-2024  Seafood\n",
       "1     7430         259  02-11-2024    Pasta\n",
       "2     5392         702  30-12-2024    Sushi\n",
       "3     4477         344  09-01-2025  Dessert\n",
       "4     1912         140  25-10-2024    Salad"
      ]
     },
     "execution_count": 4,
     "metadata": {},
     "output_type": "execute_result"
    }
   ],
   "source": [
    "df_food_type = pd.read_csv(\"food_delivery_data_with_food_type.csv\")\n",
    "df_food_type.head()"
   ]
  },
  {
   "cell_type": "code",
   "execution_count": 5,
   "metadata": {},
   "outputs": [
    {
     "name": "stdout",
     "output_type": "stream",
     "text": [
      "<class 'pandas.core.frame.DataFrame'>\n",
      "RangeIndex: 500 entries, 0 to 499\n",
      "Data columns (total 4 columns):\n",
      " #   Column      Non-Null Count  Dtype \n",
      "---  ------      --------------  ----- \n",
      " 0   OrderID     500 non-null    int64 \n",
      " 1   CustomerID  500 non-null    int64 \n",
      " 2   OrderDate   500 non-null    object\n",
      " 3   FoodType    500 non-null    object\n",
      "dtypes: int64(2), object(2)\n",
      "memory usage: 15.8+ KB\n"
     ]
    }
   ],
   "source": [
    "df_food_type.info()"
   ]
  },
  {
   "cell_type": "code",
   "execution_count": 6,
   "metadata": {},
   "outputs": [
    {
     "data": {
      "application/vnd.microsoft.datawrangler.viewer.v0+json": {
       "columns": [
        {
         "name": "index",
         "rawType": "int64",
         "type": "integer"
        },
        {
         "name": "OrderID",
         "rawType": "int64",
         "type": "integer"
        },
        {
         "name": "CustomerID",
         "rawType": "int64",
         "type": "integer"
        },
        {
         "name": "OrderDate",
         "rawType": "object",
         "type": "string"
        },
        {
         "name": "Age",
         "rawType": "int64",
         "type": "integer"
        },
        {
         "name": "Gender",
         "rawType": "object",
         "type": "string"
        },
        {
         "name": "City",
         "rawType": "object",
         "type": "string"
        }
       ],
       "conversionMethod": "pd.DataFrame",
       "ref": "e904fb07-fdb5-45c4-b253-7368d4322793",
       "rows": [
        [
         "0",
         "3521",
         "386",
         "12-12-2024",
         "57",
         "Male",
         "CityB"
        ],
        [
         "1",
         "7430",
         "259",
         "02-11-2024",
         "68",
         "Female",
         "CityA"
        ],
        [
         "2",
         "4477",
         "344",
         "09-01-2025",
         "38",
         "Female",
         "CityC"
        ],
        [
         "3",
         "1912",
         "140",
         "25-10-2024",
         "63",
         "Female",
         "CityA"
        ],
        [
         "4",
         "4841",
         "406",
         "07-01-2025",
         "68",
         "Other",
         "CityA"
        ]
       ],
       "shape": {
        "columns": 6,
        "rows": 5
       }
      },
      "text/html": [
       "<div>\n",
       "<style scoped>\n",
       "    .dataframe tbody tr th:only-of-type {\n",
       "        vertical-align: middle;\n",
       "    }\n",
       "\n",
       "    .dataframe tbody tr th {\n",
       "        vertical-align: top;\n",
       "    }\n",
       "\n",
       "    .dataframe thead th {\n",
       "        text-align: right;\n",
       "    }\n",
       "</style>\n",
       "<table border=\"1\" class=\"dataframe\">\n",
       "  <thead>\n",
       "    <tr style=\"text-align: right;\">\n",
       "      <th></th>\n",
       "      <th>OrderID</th>\n",
       "      <th>CustomerID</th>\n",
       "      <th>OrderDate</th>\n",
       "      <th>Age</th>\n",
       "      <th>Gender</th>\n",
       "      <th>City</th>\n",
       "    </tr>\n",
       "  </thead>\n",
       "  <tbody>\n",
       "    <tr>\n",
       "      <th>0</th>\n",
       "      <td>3521</td>\n",
       "      <td>386</td>\n",
       "      <td>12-12-2024</td>\n",
       "      <td>57</td>\n",
       "      <td>Male</td>\n",
       "      <td>CityB</td>\n",
       "    </tr>\n",
       "    <tr>\n",
       "      <th>1</th>\n",
       "      <td>7430</td>\n",
       "      <td>259</td>\n",
       "      <td>02-11-2024</td>\n",
       "      <td>68</td>\n",
       "      <td>Female</td>\n",
       "      <td>CityA</td>\n",
       "    </tr>\n",
       "    <tr>\n",
       "      <th>2</th>\n",
       "      <td>4477</td>\n",
       "      <td>344</td>\n",
       "      <td>09-01-2025</td>\n",
       "      <td>38</td>\n",
       "      <td>Female</td>\n",
       "      <td>CityC</td>\n",
       "    </tr>\n",
       "    <tr>\n",
       "      <th>3</th>\n",
       "      <td>1912</td>\n",
       "      <td>140</td>\n",
       "      <td>25-10-2024</td>\n",
       "      <td>63</td>\n",
       "      <td>Female</td>\n",
       "      <td>CityA</td>\n",
       "    </tr>\n",
       "    <tr>\n",
       "      <th>4</th>\n",
       "      <td>4841</td>\n",
       "      <td>406</td>\n",
       "      <td>07-01-2025</td>\n",
       "      <td>68</td>\n",
       "      <td>Other</td>\n",
       "      <td>CityA</td>\n",
       "    </tr>\n",
       "  </tbody>\n",
       "</table>\n",
       "</div>"
      ],
      "text/plain": [
       "   OrderID  CustomerID   OrderDate  Age  Gender   City\n",
       "0     3521         386  12-12-2024   57    Male  CityB\n",
       "1     7430         259  02-11-2024   68  Female  CityA\n",
       "2     4477         344  09-01-2025   38  Female  CityC\n",
       "3     1912         140  25-10-2024   63  Female  CityA\n",
       "4     4841         406  07-01-2025   68   Other  CityA"
      ]
     },
     "execution_count": 6,
     "metadata": {},
     "output_type": "execute_result"
    }
   ],
   "source": [
    "df_demography = pd.read_csv(\"food_delivery_data_with_demographics.csv\")\n",
    "df_demography.head()"
   ]
  },
  {
   "cell_type": "code",
   "execution_count": 7,
   "metadata": {},
   "outputs": [
    {
     "name": "stdout",
     "output_type": "stream",
     "text": [
      "<class 'pandas.core.frame.DataFrame'>\n",
      "RangeIndex: 225 entries, 0 to 224\n",
      "Data columns (total 6 columns):\n",
      " #   Column      Non-Null Count  Dtype \n",
      "---  ------      --------------  ----- \n",
      " 0   OrderID     225 non-null    int64 \n",
      " 1   CustomerID  225 non-null    int64 \n",
      " 2   OrderDate   225 non-null    object\n",
      " 3   Age         225 non-null    int64 \n",
      " 4   Gender      225 non-null    object\n",
      " 5   City        225 non-null    object\n",
      "dtypes: int64(3), object(3)\n",
      "memory usage: 10.7+ KB\n"
     ]
    }
   ],
   "source": [
    "df_demography.info()"
   ]
  },
  {
   "cell_type": "code",
   "execution_count": 8,
   "metadata": {},
   "outputs": [
    {
     "name": "stdout",
     "output_type": "stream",
     "text": [
      "initial df:  (500, 7)\n",
      "based on food type df:  (500, 4)\n",
      "based on demography df:  (225, 6)\n"
     ]
    }
   ],
   "source": [
    "print(\"initial df: \", df_food_delivery.shape)\n",
    "print(\"based on food type df: \", df_food_type.shape)\n",
    "print(\"based on demography df: \", df_demography.shape)"
   ]
  },
  {
   "cell_type": "markdown",
   "metadata": {},
   "source": [
    "Overview and Preprocessing of Data"
   ]
  },
  {
   "cell_type": "code",
   "execution_count": 9,
   "metadata": {},
   "outputs": [],
   "source": [
    "df_food_delivery['OrderDate'] = pd.to_datetime(df_food_delivery['OrderDate'], format='%d-%m-%Y')\n",
    "df_food_type['OrderDate'] = pd.to_datetime(df_food_type['OrderDate'], format='%d-%m-%Y')\n",
    "df_demography['OrderDate'] = pd.to_datetime(df_demography['OrderDate'], format='%d-%m-%Y')"
   ]
  },
  {
   "cell_type": "code",
   "execution_count": 10,
   "metadata": {},
   "outputs": [
    {
     "name": "stdout",
     "output_type": "stream",
     "text": [
      "<class 'pandas.core.frame.DataFrame'>\n",
      "RangeIndex: 500 entries, 0 to 499\n",
      "Data columns (total 4 columns):\n",
      " #   Column      Non-Null Count  Dtype         \n",
      "---  ------      --------------  -----         \n",
      " 0   OrderID     500 non-null    int64         \n",
      " 1   CustomerID  500 non-null    int64         \n",
      " 2   OrderDate   500 non-null    datetime64[ns]\n",
      " 3   FoodType    500 non-null    object        \n",
      "dtypes: datetime64[ns](1), int64(2), object(1)\n",
      "memory usage: 15.8+ KB\n"
     ]
    }
   ],
   "source": [
    "df_food_type.info()"
   ]
  },
  {
   "cell_type": "code",
   "execution_count": 11,
   "metadata": {},
   "outputs": [
    {
     "data": {
      "application/vnd.microsoft.datawrangler.viewer.v0+json": {
       "columns": [
        {
         "name": "index",
         "rawType": "int64",
         "type": "integer"
        },
        {
         "name": "OrderID",
         "rawType": "int64",
         "type": "integer"
        },
        {
         "name": "CustomerID",
         "rawType": "int64",
         "type": "integer"
        },
        {
         "name": "OrderDate",
         "rawType": "datetime64[ns]",
         "type": "datetime"
        },
        {
         "name": "FoodType",
         "rawType": "object",
         "type": "string"
        }
       ],
       "conversionMethod": "pd.DataFrame",
       "ref": "08e3f50e-1ae2-4fe4-a879-43312ca2fb3c",
       "rows": [
        [
         "0",
         "3521",
         "386",
         "2024-12-12 00:00:00",
         "Seafood"
        ],
        [
         "1",
         "7430",
         "259",
         "2024-11-02 00:00:00",
         "Pasta"
        ],
        [
         "2",
         "5392",
         "702",
         "2024-12-30 00:00:00",
         "Sushi"
        ],
        [
         "3",
         "4477",
         "344",
         "2025-01-09 00:00:00",
         "Dessert"
        ],
        [
         "4",
         "1912",
         "140",
         "2024-10-25 00:00:00",
         "Salad"
        ]
       ],
       "shape": {
        "columns": 4,
        "rows": 5
       }
      },
      "text/html": [
       "<div>\n",
       "<style scoped>\n",
       "    .dataframe tbody tr th:only-of-type {\n",
       "        vertical-align: middle;\n",
       "    }\n",
       "\n",
       "    .dataframe tbody tr th {\n",
       "        vertical-align: top;\n",
       "    }\n",
       "\n",
       "    .dataframe thead th {\n",
       "        text-align: right;\n",
       "    }\n",
       "</style>\n",
       "<table border=\"1\" class=\"dataframe\">\n",
       "  <thead>\n",
       "    <tr style=\"text-align: right;\">\n",
       "      <th></th>\n",
       "      <th>OrderID</th>\n",
       "      <th>CustomerID</th>\n",
       "      <th>OrderDate</th>\n",
       "      <th>FoodType</th>\n",
       "    </tr>\n",
       "  </thead>\n",
       "  <tbody>\n",
       "    <tr>\n",
       "      <th>0</th>\n",
       "      <td>3521</td>\n",
       "      <td>386</td>\n",
       "      <td>2024-12-12</td>\n",
       "      <td>Seafood</td>\n",
       "    </tr>\n",
       "    <tr>\n",
       "      <th>1</th>\n",
       "      <td>7430</td>\n",
       "      <td>259</td>\n",
       "      <td>2024-11-02</td>\n",
       "      <td>Pasta</td>\n",
       "    </tr>\n",
       "    <tr>\n",
       "      <th>2</th>\n",
       "      <td>5392</td>\n",
       "      <td>702</td>\n",
       "      <td>2024-12-30</td>\n",
       "      <td>Sushi</td>\n",
       "    </tr>\n",
       "    <tr>\n",
       "      <th>3</th>\n",
       "      <td>4477</td>\n",
       "      <td>344</td>\n",
       "      <td>2025-01-09</td>\n",
       "      <td>Dessert</td>\n",
       "    </tr>\n",
       "    <tr>\n",
       "      <th>4</th>\n",
       "      <td>1912</td>\n",
       "      <td>140</td>\n",
       "      <td>2024-10-25</td>\n",
       "      <td>Salad</td>\n",
       "    </tr>\n",
       "  </tbody>\n",
       "</table>\n",
       "</div>"
      ],
      "text/plain": [
       "   OrderID  CustomerID  OrderDate FoodType\n",
       "0     3521         386 2024-12-12  Seafood\n",
       "1     7430         259 2024-11-02    Pasta\n",
       "2     5392         702 2024-12-30    Sushi\n",
       "3     4477         344 2025-01-09  Dessert\n",
       "4     1912         140 2024-10-25    Salad"
      ]
     },
     "execution_count": 11,
     "metadata": {},
     "output_type": "execute_result"
    }
   ],
   "source": [
    "df_food_type.head()"
   ]
  },
  {
   "cell_type": "code",
   "execution_count": 14,
   "metadata": {},
   "outputs": [],
   "source": [
    "#converting order amount to numeric - \n",
    "df_food_delivery['OrderAmount'] = df_food_delivery['OrderAmount'].replace('[\\\\$,]', '', regex=True).astype(float)"
   ]
  },
  {
   "cell_type": "code",
   "execution_count": 15,
   "metadata": {},
   "outputs": [
    {
     "data": {
      "application/vnd.microsoft.datawrangler.viewer.v0+json": {
       "columns": [
        {
         "name": "index",
         "rawType": "int64",
         "type": "integer"
        },
        {
         "name": "OrderID",
         "rawType": "int64",
         "type": "integer"
        },
        {
         "name": "CustomerID",
         "rawType": "int64",
         "type": "integer"
        },
        {
         "name": "OrderDate",
         "rawType": "datetime64[ns]",
         "type": "datetime"
        },
        {
         "name": "DeliveryDistanceKM",
         "rawType": "float64",
         "type": "float"
        },
        {
         "name": "OrderAmount",
         "rawType": "float64",
         "type": "float"
        },
        {
         "name": "DiscountApplied",
         "rawType": "float64",
         "type": "float"
        },
        {
         "name": "DeliveryTimeMin",
         "rawType": "int64",
         "type": "integer"
        }
       ],
       "conversionMethod": "pd.DataFrame",
       "ref": "5570eeb5-a4f1-4e8b-87f7-58a0252a1036",
       "rows": [
        [
         "0",
         "8180",
         "436",
         "2024-11-27 00:00:00",
         "17.37",
         "35.53",
         "0.7",
         "42"
        ],
        [
         "1",
         "2138",
         "265",
         "2024-11-27 00:00:00",
         "4.44",
         "36.58",
         "9.36",
         "52"
        ],
        [
         "2",
         "8737",
         "193",
         "2024-10-31 00:00:00",
         "19.66",
         "79.93",
         "3.38",
         "59"
        ],
        [
         "3",
         "1913",
         "769",
         "2024-11-14 00:00:00",
         "1.99",
         "23.16",
         "1.44",
         "11"
        ],
        [
         "4",
         "1506",
         "982",
         "2025-01-05 00:00:00",
         "7.26",
         "24.95",
         "11.87",
         "36"
        ]
       ],
       "shape": {
        "columns": 7,
        "rows": 5
       }
      },
      "text/html": [
       "<div>\n",
       "<style scoped>\n",
       "    .dataframe tbody tr th:only-of-type {\n",
       "        vertical-align: middle;\n",
       "    }\n",
       "\n",
       "    .dataframe tbody tr th {\n",
       "        vertical-align: top;\n",
       "    }\n",
       "\n",
       "    .dataframe thead th {\n",
       "        text-align: right;\n",
       "    }\n",
       "</style>\n",
       "<table border=\"1\" class=\"dataframe\">\n",
       "  <thead>\n",
       "    <tr style=\"text-align: right;\">\n",
       "      <th></th>\n",
       "      <th>OrderID</th>\n",
       "      <th>CustomerID</th>\n",
       "      <th>OrderDate</th>\n",
       "      <th>DeliveryDistanceKM</th>\n",
       "      <th>OrderAmount</th>\n",
       "      <th>DiscountApplied</th>\n",
       "      <th>DeliveryTimeMin</th>\n",
       "    </tr>\n",
       "  </thead>\n",
       "  <tbody>\n",
       "    <tr>\n",
       "      <th>0</th>\n",
       "      <td>8180</td>\n",
       "      <td>436</td>\n",
       "      <td>2024-11-27</td>\n",
       "      <td>17.37</td>\n",
       "      <td>35.53</td>\n",
       "      <td>0.70</td>\n",
       "      <td>42</td>\n",
       "    </tr>\n",
       "    <tr>\n",
       "      <th>1</th>\n",
       "      <td>2138</td>\n",
       "      <td>265</td>\n",
       "      <td>2024-11-27</td>\n",
       "      <td>4.44</td>\n",
       "      <td>36.58</td>\n",
       "      <td>9.36</td>\n",
       "      <td>52</td>\n",
       "    </tr>\n",
       "    <tr>\n",
       "      <th>2</th>\n",
       "      <td>8737</td>\n",
       "      <td>193</td>\n",
       "      <td>2024-10-31</td>\n",
       "      <td>19.66</td>\n",
       "      <td>79.93</td>\n",
       "      <td>3.38</td>\n",
       "      <td>59</td>\n",
       "    </tr>\n",
       "    <tr>\n",
       "      <th>3</th>\n",
       "      <td>1913</td>\n",
       "      <td>769</td>\n",
       "      <td>2024-11-14</td>\n",
       "      <td>1.99</td>\n",
       "      <td>23.16</td>\n",
       "      <td>1.44</td>\n",
       "      <td>11</td>\n",
       "    </tr>\n",
       "    <tr>\n",
       "      <th>4</th>\n",
       "      <td>1506</td>\n",
       "      <td>982</td>\n",
       "      <td>2025-01-05</td>\n",
       "      <td>7.26</td>\n",
       "      <td>24.95</td>\n",
       "      <td>11.87</td>\n",
       "      <td>36</td>\n",
       "    </tr>\n",
       "  </tbody>\n",
       "</table>\n",
       "</div>"
      ],
      "text/plain": [
       "   OrderID  CustomerID  OrderDate  DeliveryDistanceKM  OrderAmount  \\\n",
       "0     8180         436 2024-11-27               17.37        35.53   \n",
       "1     2138         265 2024-11-27                4.44        36.58   \n",
       "2     8737         193 2024-10-31               19.66        79.93   \n",
       "3     1913         769 2024-11-14                1.99        23.16   \n",
       "4     1506         982 2025-01-05                7.26        24.95   \n",
       "\n",
       "   DiscountApplied  DeliveryTimeMin  \n",
       "0             0.70               42  \n",
       "1             9.36               52  \n",
       "2             3.38               59  \n",
       "3             1.44               11  \n",
       "4            11.87               36  "
      ]
     },
     "execution_count": 15,
     "metadata": {},
     "output_type": "execute_result"
    }
   ],
   "source": [
    "df_food_delivery.head()"
   ]
  },
  {
   "cell_type": "code",
   "execution_count": 16,
   "metadata": {},
   "outputs": [
    {
     "name": "stdout",
     "output_type": "stream",
     "text": [
      "<class 'pandas.core.frame.DataFrame'>\n",
      "RangeIndex: 500 entries, 0 to 499\n",
      "Data columns (total 7 columns):\n",
      " #   Column              Non-Null Count  Dtype         \n",
      "---  ------              --------------  -----         \n",
      " 0   OrderID             500 non-null    int64         \n",
      " 1   CustomerID          500 non-null    int64         \n",
      " 2   OrderDate           500 non-null    datetime64[ns]\n",
      " 3   DeliveryDistanceKM  500 non-null    float64       \n",
      " 4   OrderAmount         500 non-null    float64       \n",
      " 5   DiscountApplied     500 non-null    float64       \n",
      " 6   DeliveryTimeMin     500 non-null    int64         \n",
      "dtypes: datetime64[ns](1), float64(3), int64(3)\n",
      "memory usage: 27.5 KB\n"
     ]
    }
   ],
   "source": [
    "df_food_delivery.info()"
   ]
  },
  {
   "cell_type": "code",
   "execution_count": 20,
   "metadata": {},
   "outputs": [
    {
     "name": "stdout",
     "output_type": "stream",
     "text": [
      "0\n",
      "0\n",
      "0\n"
     ]
    }
   ],
   "source": [
    "print(df_food_delivery.duplicated().sum()) # to check for duplicates in the dataset\n",
    "print(df_food_type.duplicated().sum()) # to check for duplicates in the dataset\n",
    "print(df_demography.duplicated().sum()) # to check for duplicates in the dataset"
   ]
  },
  {
   "cell_type": "code",
   "execution_count": 21,
   "metadata": {},
   "outputs": [
    {
     "data": {
      "text/plain": [
       "OrderID       0\n",
       "CustomerID    0\n",
       "OrderDate     0\n",
       "Age           0\n",
       "Gender        0\n",
       "City          0\n",
       "dtype: int64"
      ]
     },
     "execution_count": 21,
     "metadata": {},
     "output_type": "execute_result"
    }
   ],
   "source": [
    "#from info() we got to know that there are no null values, but further confirmation - \n",
    "df_food_delivery.isnull().sum()\n",
    "df_food_type.isnull().sum()\n",
    "df_demography.isnull().sum()"
   ]
  },
  {
   "cell_type": "code",
   "execution_count": 22,
   "metadata": {},
   "outputs": [
    {
     "data": {
      "application/vnd.microsoft.datawrangler.viewer.v0+json": {
       "columns": [
        {
         "name": "index",
         "rawType": "int64",
         "type": "integer"
        },
        {
         "name": "OrderID",
         "rawType": "int64",
         "type": "integer"
        },
        {
         "name": "CustomerID",
         "rawType": "int64",
         "type": "integer"
        },
        {
         "name": "OrderDate",
         "rawType": "datetime64[ns]",
         "type": "datetime"
        },
        {
         "name": "DeliveryDistanceKM",
         "rawType": "float64",
         "type": "float"
        },
        {
         "name": "OrderAmount",
         "rawType": "float64",
         "type": "float"
        },
        {
         "name": "DiscountApplied",
         "rawType": "float64",
         "type": "float"
        },
        {
         "name": "DeliveryTimeMin",
         "rawType": "int64",
         "type": "integer"
        },
        {
         "name": "FoodType",
         "rawType": "object",
         "type": "unknown"
        },
        {
         "name": "Age",
         "rawType": "float64",
         "type": "float"
        },
        {
         "name": "Gender",
         "rawType": "object",
         "type": "unknown"
        },
        {
         "name": "City",
         "rawType": "object",
         "type": "unknown"
        }
       ],
       "conversionMethod": "pd.DataFrame",
       "ref": "6fdca4ac-88fd-40e5-bf5a-ac0ff6220f9b",
       "rows": [
        [
         "0",
         "8180",
         "436",
         "2024-11-27 00:00:00",
         "17.37",
         "35.53",
         "0.7",
         "42",
         null,
         null,
         null,
         null
        ],
        [
         "1",
         "2138",
         "265",
         "2024-11-27 00:00:00",
         "4.44",
         "36.58",
         "9.36",
         "52",
         null,
         null,
         null,
         null
        ],
        [
         "2",
         "8737",
         "193",
         "2024-10-31 00:00:00",
         "19.66",
         "79.93",
         "3.38",
         "59",
         null,
         null,
         null,
         null
        ],
        [
         "3",
         "1913",
         "769",
         "2024-11-14 00:00:00",
         "1.99",
         "23.16",
         "1.44",
         "11",
         null,
         null,
         null,
         null
        ],
        [
         "4",
         "1506",
         "982",
         "2025-01-05 00:00:00",
         "7.26",
         "24.95",
         "11.87",
         "36",
         null,
         null,
         null,
         null
        ]
       ],
       "shape": {
        "columns": 11,
        "rows": 5
       }
      },
      "text/html": [
       "<div>\n",
       "<style scoped>\n",
       "    .dataframe tbody tr th:only-of-type {\n",
       "        vertical-align: middle;\n",
       "    }\n",
       "\n",
       "    .dataframe tbody tr th {\n",
       "        vertical-align: top;\n",
       "    }\n",
       "\n",
       "    .dataframe thead th {\n",
       "        text-align: right;\n",
       "    }\n",
       "</style>\n",
       "<table border=\"1\" class=\"dataframe\">\n",
       "  <thead>\n",
       "    <tr style=\"text-align: right;\">\n",
       "      <th></th>\n",
       "      <th>OrderID</th>\n",
       "      <th>CustomerID</th>\n",
       "      <th>OrderDate</th>\n",
       "      <th>DeliveryDistanceKM</th>\n",
       "      <th>OrderAmount</th>\n",
       "      <th>DiscountApplied</th>\n",
       "      <th>DeliveryTimeMin</th>\n",
       "      <th>FoodType</th>\n",
       "      <th>Age</th>\n",
       "      <th>Gender</th>\n",
       "      <th>City</th>\n",
       "    </tr>\n",
       "  </thead>\n",
       "  <tbody>\n",
       "    <tr>\n",
       "      <th>0</th>\n",
       "      <td>8180</td>\n",
       "      <td>436</td>\n",
       "      <td>2024-11-27</td>\n",
       "      <td>17.37</td>\n",
       "      <td>35.53</td>\n",
       "      <td>0.70</td>\n",
       "      <td>42</td>\n",
       "      <td>NaN</td>\n",
       "      <td>NaN</td>\n",
       "      <td>NaN</td>\n",
       "      <td>NaN</td>\n",
       "    </tr>\n",
       "    <tr>\n",
       "      <th>1</th>\n",
       "      <td>2138</td>\n",
       "      <td>265</td>\n",
       "      <td>2024-11-27</td>\n",
       "      <td>4.44</td>\n",
       "      <td>36.58</td>\n",
       "      <td>9.36</td>\n",
       "      <td>52</td>\n",
       "      <td>NaN</td>\n",
       "      <td>NaN</td>\n",
       "      <td>NaN</td>\n",
       "      <td>NaN</td>\n",
       "    </tr>\n",
       "    <tr>\n",
       "      <th>2</th>\n",
       "      <td>8737</td>\n",
       "      <td>193</td>\n",
       "      <td>2024-10-31</td>\n",
       "      <td>19.66</td>\n",
       "      <td>79.93</td>\n",
       "      <td>3.38</td>\n",
       "      <td>59</td>\n",
       "      <td>NaN</td>\n",
       "      <td>NaN</td>\n",
       "      <td>NaN</td>\n",
       "      <td>NaN</td>\n",
       "    </tr>\n",
       "    <tr>\n",
       "      <th>3</th>\n",
       "      <td>1913</td>\n",
       "      <td>769</td>\n",
       "      <td>2024-11-14</td>\n",
       "      <td>1.99</td>\n",
       "      <td>23.16</td>\n",
       "      <td>1.44</td>\n",
       "      <td>11</td>\n",
       "      <td>NaN</td>\n",
       "      <td>NaN</td>\n",
       "      <td>NaN</td>\n",
       "      <td>NaN</td>\n",
       "    </tr>\n",
       "    <tr>\n",
       "      <th>4</th>\n",
       "      <td>1506</td>\n",
       "      <td>982</td>\n",
       "      <td>2025-01-05</td>\n",
       "      <td>7.26</td>\n",
       "      <td>24.95</td>\n",
       "      <td>11.87</td>\n",
       "      <td>36</td>\n",
       "      <td>NaN</td>\n",
       "      <td>NaN</td>\n",
       "      <td>NaN</td>\n",
       "      <td>NaN</td>\n",
       "    </tr>\n",
       "  </tbody>\n",
       "</table>\n",
       "</div>"
      ],
      "text/plain": [
       "   OrderID  CustomerID  OrderDate  DeliveryDistanceKM  OrderAmount  \\\n",
       "0     8180         436 2024-11-27               17.37        35.53   \n",
       "1     2138         265 2024-11-27                4.44        36.58   \n",
       "2     8737         193 2024-10-31               19.66        79.93   \n",
       "3     1913         769 2024-11-14                1.99        23.16   \n",
       "4     1506         982 2025-01-05                7.26        24.95   \n",
       "\n",
       "   DiscountApplied  DeliveryTimeMin FoodType  Age Gender City  \n",
       "0             0.70               42      NaN  NaN    NaN  NaN  \n",
       "1             9.36               52      NaN  NaN    NaN  NaN  \n",
       "2             3.38               59      NaN  NaN    NaN  NaN  \n",
       "3             1.44               11      NaN  NaN    NaN  NaN  \n",
       "4            11.87               36      NaN  NaN    NaN  NaN  "
      ]
     },
     "execution_count": 22,
     "metadata": {},
     "output_type": "execute_result"
    }
   ],
   "source": [
    "# Merge df_food_delivery and df_food_type first\n",
    "df_merged = pd.merge(\n",
    "    df_food_delivery, \n",
    "    df_food_type, \n",
    "    on=['OrderID', 'CustomerID', 'OrderDate'], \n",
    "    how='left'  # left join, so we don't lose records from the main dataset\n",
    ")\n",
    "\n",
    "# Then merge demography\n",
    "df_merged = pd.merge(\n",
    "    df_merged, \n",
    "    df_demography, \n",
    "    on=['OrderID', 'CustomerID', 'OrderDate'], \n",
    "    how='left'\n",
    ")\n",
    "\n",
    "df_merged.head()"
   ]
  },
  {
   "cell_type": "code",
   "execution_count": 23,
   "metadata": {},
   "outputs": [
    {
     "name": "stdout",
     "output_type": "stream",
     "text": [
      "<class 'pandas.core.frame.DataFrame'>\n",
      "RangeIndex: 500 entries, 0 to 499\n",
      "Data columns (total 11 columns):\n",
      " #   Column              Non-Null Count  Dtype         \n",
      "---  ------              --------------  -----         \n",
      " 0   OrderID             500 non-null    int64         \n",
      " 1   CustomerID          500 non-null    int64         \n",
      " 2   OrderDate           500 non-null    datetime64[ns]\n",
      " 3   DeliveryDistanceKM  500 non-null    float64       \n",
      " 4   OrderAmount         500 non-null    float64       \n",
      " 5   DiscountApplied     500 non-null    float64       \n",
      " 6   DeliveryTimeMin     500 non-null    int64         \n",
      " 7   FoodType            0 non-null      object        \n",
      " 8   Age                 0 non-null      float64       \n",
      " 9   Gender              0 non-null      object        \n",
      " 10  City                0 non-null      object        \n",
      "dtypes: datetime64[ns](1), float64(4), int64(3), object(3)\n",
      "memory usage: 43.1+ KB\n"
     ]
    }
   ],
   "source": [
    "df_merged.info()"
   ]
  },
  {
   "cell_type": "code",
   "execution_count": 24,
   "metadata": {},
   "outputs": [
    {
     "data": {
      "text/plain": [
       "np.int64(500)"
      ]
     },
     "execution_count": 24,
     "metadata": {},
     "output_type": "execute_result"
    }
   ],
   "source": [
    "df_merged[\"FoodType\"].isna().sum()"
   ]
  },
  {
   "cell_type": "code",
   "execution_count": 35,
   "metadata": {},
   "outputs": [
    {
     "name": "stdout",
     "output_type": "stream",
     "text": [
      "Number of common OrderIDs: 21\n"
     ]
    }
   ],
   "source": [
    "set_food_delivery = set(df_food_delivery['OrderID'])\n",
    "set_food_type = set(df_food_type['OrderID'])\n",
    "\n",
    "common_orders = set_food_delivery.intersection(set_food_type)\n",
    "print(\"Number of common OrderIDs:\", len(common_orders))\n"
   ]
  },
  {
   "cell_type": "code",
   "execution_count": 28,
   "metadata": {},
   "outputs": [
    {
     "name": "stdout",
     "output_type": "stream",
     "text": [
      "10\n"
     ]
    }
   ],
   "source": [
    "set_food_demography = set(df_demography['OrderID'])\n",
    "print(len(common_orders.intersection(set_food_demography)))"
   ]
  },
  {
   "cell_type": "code",
   "execution_count": 32,
   "metadata": {},
   "outputs": [
    {
     "name": "stdout",
     "output_type": "stream",
     "text": [
      "Number of common CustomerIDs: 177\n"
     ]
    }
   ],
   "source": [
    "set_customer_delivery = set(df_food_delivery['CustomerID'])\n",
    "set_customer_type = set(df_food_type['CustomerID'])\n",
    "\n",
    "common_customers = set_customer_delivery.intersection(set_customer_type)\n",
    "print(\"Number of common CustomerIDs:\", len(common_customers))\n"
   ]
  },
  {
   "cell_type": "code",
   "execution_count": 29,
   "metadata": {},
   "outputs": [
    {
     "name": "stdout",
     "output_type": "stream",
     "text": [
      "0\n"
     ]
    }
   ],
   "source": [
    "set_food_demography = set(df_demography['CustomerID'])\n",
    "print(len(common_orders.intersection(set_food_demography)))"
   ]
  },
  {
   "cell_type": "code",
   "execution_count": null,
   "metadata": {},
   "outputs": [],
   "source": []
  }
 ],
 "metadata": {
  "kernelspec": {
   "display_name": "myvenv",
   "language": "python",
   "name": "python3"
  },
  "language_info": {
   "codemirror_mode": {
    "name": "ipython",
    "version": 3
   },
   "file_extension": ".py",
   "mimetype": "text/x-python",
   "name": "python",
   "nbconvert_exporter": "python",
   "pygments_lexer": "ipython3",
   "version": "3.12.5"
  }
 },
 "nbformat": 4,
 "nbformat_minor": 2
}
